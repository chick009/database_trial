{
 "cells": [
  {
   "cell_type": "code",
   "execution_count": 1,
   "metadata": {},
   "outputs": [],
   "source": [
    "import pandas as pd"
   ]
  },
  {
   "cell_type": "code",
   "execution_count": 2,
   "metadata": {},
   "outputs": [],
   "source": [
    "df = pd.read_csv('SP500.csv', index_col=0)"
   ]
  },
  {
   "cell_type": "code",
   "execution_count": 3,
   "metadata": {},
   "outputs": [],
   "source": [
    "df = df[[\"A\", \"AAL\", \"AAPL\"]]"
   ]
  },
  {
   "cell_type": "code",
   "execution_count": 4,
   "metadata": {},
   "outputs": [
    {
     "data": {
      "text/html": [
       "<div>\n",
       "<style scoped>\n",
       "    .dataframe tbody tr th:only-of-type {\n",
       "        vertical-align: middle;\n",
       "    }\n",
       "\n",
       "    .dataframe tbody tr th {\n",
       "        vertical-align: top;\n",
       "    }\n",
       "\n",
       "    .dataframe thead th {\n",
       "        text-align: right;\n",
       "    }\n",
       "</style>\n",
       "<table border=\"1\" class=\"dataframe\">\n",
       "  <thead>\n",
       "    <tr style=\"text-align: right;\">\n",
       "      <th></th>\n",
       "      <th>A</th>\n",
       "      <th>AAL</th>\n",
       "      <th>AAPL</th>\n",
       "    </tr>\n",
       "    <tr>\n",
       "      <th>date</th>\n",
       "      <th></th>\n",
       "      <th></th>\n",
       "      <th></th>\n",
       "    </tr>\n",
       "  </thead>\n",
       "  <tbody>\n",
       "    <tr>\n",
       "      <th>2018-01-02</th>\n",
       "      <td>65.095131</td>\n",
       "      <td>51.647560</td>\n",
       "      <td>40.888062</td>\n",
       "    </tr>\n",
       "    <tr>\n",
       "      <th>2018-01-03</th>\n",
       "      <td>66.751389</td>\n",
       "      <td>51.014030</td>\n",
       "      <td>40.880947</td>\n",
       "    </tr>\n",
       "    <tr>\n",
       "      <th>2018-01-04</th>\n",
       "      <td>66.250664</td>\n",
       "      <td>51.335663</td>\n",
       "      <td>41.070835</td>\n",
       "    </tr>\n",
       "    <tr>\n",
       "      <th>2018-01-05</th>\n",
       "      <td>67.309898</td>\n",
       "      <td>51.316174</td>\n",
       "      <td>41.538448</td>\n",
       "    </tr>\n",
       "    <tr>\n",
       "      <th>2018-01-08</th>\n",
       "      <td>67.454346</td>\n",
       "      <td>50.809345</td>\n",
       "      <td>41.384144</td>\n",
       "    </tr>\n",
       "    <tr>\n",
       "      <th>...</th>\n",
       "      <td>...</td>\n",
       "      <td>...</td>\n",
       "      <td>...</td>\n",
       "    </tr>\n",
       "    <tr>\n",
       "      <th>2023-03-10</th>\n",
       "      <td>135.720001</td>\n",
       "      <td>15.460000</td>\n",
       "      <td>148.500000</td>\n",
       "    </tr>\n",
       "    <tr>\n",
       "      <th>2023-03-13</th>\n",
       "      <td>136.690002</td>\n",
       "      <td>14.850000</td>\n",
       "      <td>150.470001</td>\n",
       "    </tr>\n",
       "    <tr>\n",
       "      <th>2023-03-14</th>\n",
       "      <td>138.399994</td>\n",
       "      <td>14.660000</td>\n",
       "      <td>152.589996</td>\n",
       "    </tr>\n",
       "    <tr>\n",
       "      <th>2023-03-15</th>\n",
       "      <td>134.029999</td>\n",
       "      <td>13.860000</td>\n",
       "      <td>152.990005</td>\n",
       "    </tr>\n",
       "    <tr>\n",
       "      <th>2023-03-16</th>\n",
       "      <td>133.589996</td>\n",
       "      <td>13.915000</td>\n",
       "      <td>153.768799</td>\n",
       "    </tr>\n",
       "  </tbody>\n",
       "</table>\n",
       "<p>1310 rows × 3 columns</p>\n",
       "</div>"
      ],
      "text/plain": [
       "                     A        AAL        AAPL\n",
       "date                                         \n",
       "2018-01-02   65.095131  51.647560   40.888062\n",
       "2018-01-03   66.751389  51.014030   40.880947\n",
       "2018-01-04   66.250664  51.335663   41.070835\n",
       "2018-01-05   67.309898  51.316174   41.538448\n",
       "2018-01-08   67.454346  50.809345   41.384144\n",
       "...                ...        ...         ...\n",
       "2023-03-10  135.720001  15.460000  148.500000\n",
       "2023-03-13  136.690002  14.850000  150.470001\n",
       "2023-03-14  138.399994  14.660000  152.589996\n",
       "2023-03-15  134.029999  13.860000  152.990005\n",
       "2023-03-16  133.589996  13.915000  153.768799\n",
       "\n",
       "[1310 rows x 3 columns]"
      ]
     },
     "execution_count": 4,
     "metadata": {},
     "output_type": "execute_result"
    }
   ],
   "source": [
    "df"
   ]
  },
  {
   "cell_type": "code",
   "execution_count": 4,
   "metadata": {},
   "outputs": [
    {
     "name": "stdout",
     "output_type": "stream",
     "text": [
      "Requirement already satisfied: PyMySQL in c:\\users\\johnn\\anaconda3\\lib\\site-packages (1.1.0)\n"
     ]
    },
    {
     "name": "stderr",
     "output_type": "stream",
     "text": [
      "WARNING: Ignoring invalid distribution -atplotlib (c:\\users\\johnn\\anaconda3\\lib\\site-packages)\n",
      "WARNING: Ignoring invalid distribution -yarrow (c:\\users\\johnn\\anaconda3\\lib\\site-packages)\n",
      "WARNING: Ignoring invalid distribution -atplotlib (c:\\users\\johnn\\anaconda3\\lib\\site-packages)\n",
      "WARNING: Ignoring invalid distribution -yarrow (c:\\users\\johnn\\anaconda3\\lib\\site-packages)\n"
     ]
    }
   ],
   "source": [
    "!pip install PyMySQL"
   ]
  },
  {
   "cell_type": "code",
   "execution_count": 6,
   "metadata": {},
   "outputs": [
    {
     "name": "stdout",
     "output_type": "stream",
     "text": [
      "Table created successfully!\n"
     ]
    }
   ],
   "source": [
    "import sqlalchemy\n",
    "from sqlalchemy import create_engine\n",
    "\n",
    "# Create connection string \n",
    "host = \"financial-database.mysql.database.azure.com\"\n",
    "database = \"currency_data\" \n",
    "username = \"cuqts_datateam\"\n",
    "password = \"a7$~B$k\\L>E7\"\n",
    "port = 3306\n",
    "\n",
    "connection_str = f'mysql+pymysql://{username}:{password}@{host}:{port}/{database}'\n",
    "\n",
    "# Connect to Azure MySQL\n",
    "engine = create_engine(connection_str, \n",
    "                       connect_args={\"ssl\": {\"ssl_ca\": \"DigiCertGlobalRootCA.crt.pem\"}})\n",
    "connection = engine.connect()\n",
    "\n",
    "# Create table\n",
    "\n",
    "query = \"\"\"CREATE TABLE stock_data10 (\n",
    "  `date` DATE,\n",
    "  `stock1` FLOAT,\n",
    "  `stock2` FLOAT,\n",
    "  `stock3` FLOAT\n",
    ");\"\"\"\n",
    "\n",
    "result = connection.execute(query)\n",
    "\n",
    "print(\"Table created successfully!\")"
   ]
  },
  {
   "cell_type": "code",
   "execution_count": null,
   "metadata": {},
   "outputs": [],
   "source": []
  },
  {
   "cell_type": "code",
   "execution_count": null,
   "metadata": {},
   "outputs": [],
   "source": []
  },
  {
   "cell_type": "code",
   "execution_count": null,
   "metadata": {},
   "outputs": [],
   "source": []
  }
 ],
 "metadata": {
  "kernelspec": {
   "display_name": "base",
   "language": "python",
   "name": "python3"
  },
  "language_info": {
   "codemirror_mode": {
    "name": "ipython",
    "version": 3
   },
   "file_extension": ".py",
   "mimetype": "text/x-python",
   "name": "python",
   "nbconvert_exporter": "python",
   "pygments_lexer": "ipython3",
   "version": "3.9.13"
  },
  "orig_nbformat": 4
 },
 "nbformat": 4,
 "nbformat_minor": 2
}
